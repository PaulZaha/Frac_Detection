{
 "cells": [
  {
   "cell_type": "code",
   "execution_count": 1,
   "metadata": {},
   "outputs": [
    {
     "name": "stdout",
     "output_type": "stream",
     "text": [
      "c:\\Users\\paulz\\Documents\\ProgrammingDigitalProjects_v2\n"
     ]
    }
   ],
   "source": [
    "import os"
   ]
  },
  {
   "cell_type": "code",
   "execution_count": 6,
   "metadata": {},
   "outputs": [],
   "source": [
    "Path_DenseNet = os.path.join(os.getcwd(),'Ergebnisse','DenseNet201','Ergebnisse_DenseNet201.txt')\n",
    "Path_B3 = os.path.join(os.getcwd(),'Ergebnisse','EfficientNetB3','EfficientNetB3_Ergebnisse.txt')\n",
    "Path_B4 = os.path.join(os.getcwd(),'Ergebnisse','EfficientNetB4','Ergebnisse_EfficientNetB4.txt')\n",
    "Path_B4_opt = os.path.join(os.getcwd(),'Ergebnisse','EfficientNetB4','optimization2','Ergebnisse_93,55.txt')\n",
    "Path_Inception = os.path.join(os.getcwd(),'Ergebnisse','InceptionV3','Ergebnisse_InceptionV3.txt')\n",
    "Path_ResNet = os.path.join(os.getcwd(),'Ergebnisse','ResNet152V2','Ergebnisse_ResNet152V2.txt')\n",
    "Path_Xception = os.path.join(os.getcwd(),'Ergebnisse','Xception','Xception_Ergebnisse.txt')\n",
    "\n",
    "path_list = [Path_DenseNet,Path_B3,Path_B4,Path_B4_opt,Path_Inception,Path_ResNet,Path_Xception]\n"
   ]
  },
  {
   "cell_type": "code",
   "execution_count": 11,
   "metadata": {},
   "outputs": [
    {
     "name": "stdout",
     "output_type": "stream",
     "text": [
      "515\n",
      "855\n",
      "1185\n",
      "1525\n",
      "1852\n",
      "2190\n",
      "2520\n",
      "2858\n",
      "3188\n",
      "3526\n",
      "3856\n",
      "4194\n",
      "4524\n",
      "4862\n",
      "5099\n",
      "5437\n",
      "5767\n",
      "6106\n",
      "6437\n",
      "6776\n",
      "7107\n",
      "7446\n",
      "7777\n",
      "8116\n",
      "8354\n",
      "8693\n",
      "9024\n",
      "9363\n",
      "9601\n",
      "9940\n",
      "10178\n",
      "10517\n",
      "10754\n",
      "11092\n",
      "11423\n",
      "11762\n",
      "12092\n",
      "12430\n",
      "12666\n",
      "13023\n"
     ]
    }
   ],
   "source": [
    "with open(Path_DenseNet, 'r') as datei:\n",
    "    # Den gesamten Inhalt der Datei lesen\n",
    "    inhalt = datei.read()\n",
    "\n",
    "# Den gelesenen Inhalt ausgeben\n",
    "startindex = 0\n",
    "indizes_loss = []\n",
    "\n",
    "while startindex<len(inhalt):\n",
    "    index = inhalt.find(\"- loss:\",startindex)\n",
    "    if index == -1:\n",
    "        break\n",
    "    print(index)\n",
    "    startindex = index+1\n",
    "\n"
   ]
  }
 ],
 "metadata": {
  "kernelspec": {
   "display_name": "Python 3",
   "language": "python",
   "name": "python3"
  },
  "language_info": {
   "codemirror_mode": {
    "name": "ipython",
    "version": 3
   },
   "file_extension": ".py",
   "mimetype": "text/x-python",
   "name": "python",
   "nbconvert_exporter": "python",
   "pygments_lexer": "ipython3",
   "version": "3.11.3"
  }
 },
 "nbformat": 4,
 "nbformat_minor": 2
}
